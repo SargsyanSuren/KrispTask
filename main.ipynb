{
 "cells": [
  {
   "cell_type": "markdown",
   "metadata": {},
   "source": [
    "## Task 1: Cheap Crowdfunding Problem\n",
    "\n",
    "### Problem Statement\n",
    "\n",
    "There is a crowdfunding project that you want to support. This project gives the same reward to every supporter, with one peculiar condition: the amount you pledge must not be equal to any earlier pledge amount.\n",
    "\n",
    "You would like to get the reward while spending the least amount > 0.\n",
    "\n",
    "You are given a list of amounts pledged so far in an array of integers. You know that there are less than 100,000 pledges and the maximum amount pledged is less than $1,000,000.\n",
    "\n",
    "### Objective\n",
    "\n",
    "Implement a function `find_min_pledge(pledge_list)` that will return the amount you should pledge."
   ]
  },
  {
   "cell_type": "code",
   "execution_count": 14,
   "metadata": {},
   "outputs": [],
   "source": [
    "def find_min_pledge(pledge_list):\n",
    "    if 1 not in pledge_list:\n",
    "        return 1\n",
    "    answer = 1\n",
    "    for i in range(len(pledge_list)):\n",
    "        if pledge_list[i] < 1 or pledge_list[i] > len(pledge_list):\n",
    "            pledge_list[i] = 1\n",
    "\n",
    "    for z in pledge_list:\n",
    "        if answer + 1 in pledge_list:\n",
    "            answer += 1\n",
    "        else:\n",
    "            return answer + 1"
   ]
  },
  {
   "cell_type": "markdown",
   "metadata": {},
   "source": [
    "### Test Cases\n",
    "\n",
    "Below are some test cases for the `find_min_pledge` function:\n"
   ]
  },
  {
   "cell_type": "code",
   "execution_count": 15,
   "metadata": {},
   "outputs": [
    {
     "name": "stdout",
     "output_type": "stream",
     "text": [
      "5\n",
      "4\n",
      "1\n"
     ]
    }
   ],
   "source": [
    "print(find_min_pledge([1, 3, 6, 4, 1, 2]))  # Expected output: 5\n",
    "print(find_min_pledge([1, 2, 3]))           # Expected output: 4\n",
    "print(find_min_pledge([-1, -3]))            # Expected output: 1"
   ]
  },
  {
   "cell_type": "markdown",
   "metadata": {},
   "source": [
    "## Task 2: Extract Titles from RSS Feed\n",
    "\n",
    "### Problem Statement\n",
    "\n",
    "Implement the `get_headlines()` function. It should take a URL of an RSS feed and return a list of strings representing article titles.\n",
    "\n",
    "### Objective\n",
    "\n",
    "Implement a function `get_headlines(rss_url)` that returns a list of titles from the RSS feed located at `rss_url`.\n"
   ]
  },
  {
   "cell_type": "code",
   "execution_count": 38,
   "metadata": {},
   "outputs": [],
   "source": [
    "import feedparser\n",
    "\n",
    "google_news_url=\"https://news.google.com/news/rss\"\n",
    "def get_headlines(rss_url):\n",
    "\n",
    "    answer = feedparser.parse(rss_url)\n",
    "    titles = []\n",
    "\n",
    "    for i in answer.entries:\n",
    "        titles.append(i.title)\n",
    "    return titles"
   ]
  },
  {
   "cell_type": "markdown",
   "metadata": {},
   "source": [
    "### Test Cases\n",
    "\n",
    "Below are some test cases for the `get_headlines` function:\n"
   ]
  },
  {
   "cell_type": "code",
   "execution_count": null,
   "metadata": {},
   "outputs": [],
   "source": [
    "print(get_headlines(google_news_url)) # Expected output: ['Russia’s Belgorod border region declares emergency after Ukrainian incursion - CNN', \"'Squad' member Ilhan Omar wins congressional primary - BBC.com\", 'Japan’s prime minister Fumio Kishida to step down - Financial Times', 'Tim Walz Flames JD Vance For Pushing Stolen Valor Claims - The Daily Beast', 'A strengthening Ernesto is poised to become a hurricane after brushing past Puerto Rico - The Associated Press', 'News outlets were leaked insider material taken from Trump campaign. They chose not to print it - PBS NewsHour', '$3M in Mexican cartel meth seized by DEA in record-breaking bust - FOX 5 Atlanta', 'Biden administration approves $20 billion in weapons, aircraft sales to Israel - CBS News', 'Watch: CCTV captures moment earthquake hits California - BBC.com', '‘The dumbest climate conversation of all time’: experts on the Musk-Trump interview - The Guardian', 'Hamas says it will not attend new cease-fire talks with Israel - CBS News', 'Israeli minister denounced for prayer call at Jerusalem holy site - BBC.com', 'The Taliban have ruled Afghanistan for 3 years. Here are 5 things to know - The Associated Press', 'Evacuations ordered near Athens as Greek authorities try to contain wildfires - CNN', 'Why Starbucks Fired Laxman Narasimhan A Year After His Appointment As CEO - NDTV', 'Elliott to Seek Up to 10 Southwest Board Seats in Special Vote - Bloomberg', 'UK, U.S. inflation prints in focus as European markets head for higher open - CNBC', 'Justice Department considering push for historic break up of Google after landmark antitrust ruling: report - New York Post', 'Flagship smartphone showdown - Apple iPhone 15 Pro vs Google Pixel 9 Pro - AppleInsider', 'Google offering two years of free data with Pixel Watch 3 LTE - 9to5Google', 'I Used ChatGPT’s Advanced Voice Mode. It’s Fun, and Just a Bit Creepy - WIRED', 'Dbrand launches Made for Google Pixel 9 series Grip cases - 9to5Google', 'Joaquin Phoenix’s Last-Minute Exit Sparks “Huge Amount of Outrage” Among Hollywood Producers - Hollywood Reporter', 'Justin Baldoni hires PR crisis manager amid rumors of feud with Blake Lively on ‘It Ends With Us’ set: report - Page Six', 'Banksy in London: Nine days of works but what do they mean? - BBC.com', 'Halle Berry On Exiting \\'All\\'s Fair\\' Hulu Drama Starring Kim Kardashian: \"Things Happen For A Reason\" - Deadline', \"Vikings QB McCarthy needs surgery on meniscus tear in right knee, a big setback in rookie's progress - The Associated Press\", \"Steelers Have Potential Trade for 49ers' Brandon Aiyuk in Place, per Report - Sports Illustrated\", \"Week 1 Results + Scorecards | Dana White's Contender Series Season 8 - UFC\", 'Subsurface Oceans on Mars? NASA’s InSight Uncovers Vast Reservoir of Liquid Water - SciTechDaily', 'Video: Northern lights seen shimmering from the International Space Station - The Hill', 'Show us your 2024 Perseid meteor shower photos - The Guardian', \"Tonight's Aurora Forecast: Northern Lights to Continue Over US - Newsweek\", 'Africa CDC declares mpox outbreak a public health emergency - The Guardian', \"What is Legionnaire's disease? Five cases identified in NH. What officials say caused it - Seacoastonline.com\", 'MAP: These 27 states at ‘very high’ COVID wastewater levels - The Hill', 'Oropouche Virus Outbreak Hits Europe as First Deaths Confirmed in Brazil - ScienceAlert']\n"
   ]
  },
  {
   "cell_type": "markdown",
   "metadata": {},
   "source": [
    "## Task 3: Streaming Payments Processor\n",
    "\n",
    "### Problem Statement\n",
    "\n",
    "The function `process_payments()` is processing a large, but finite amount of payments in a streaming fashion.\n",
    "\n",
    "It relies on two library functions to do its job. The first function `stream_payments_to_storage(storage)` reads the payments from a payment processor and writes them to storage by calling `storage.write(buffer)` on its `storage` argument. The `storage` argument is supplied by calling `get_payments_storage()` function.\n",
    "\n",
    "### Objective\n",
    "\n",
    "Modify the `process_payments()` function to print a checksum of bytes written by `stream_payments_to_storage()`. The checksum is implemented as a simple arithmetic sum of bytes. The existing functionality should be preserved.\n",
    "\n",
    "### Example\n",
    "\n",
    "For example, if `bytes([1, 2, 3])` were written, the checksum should be `6`.\n",
    "\n",
    "### Constraints\n",
    "\n",
    "- You are allowed only one call each to `get_payments_storage()` and to `stream_payments_to_storage()`.\n",
    "- You cannot read from the storage.\n",
    "- You cannot use disk as temporary storage.\n",
    "- Your system has limited memory that cannot hold all payments.\n"
   ]
  },
  {
   "cell_type": "markdown",
   "metadata": {},
   "source": [
    "Importing necessary libraries."
   ]
  },
  {
   "cell_type": "code",
   "execution_count": 19,
   "metadata": {},
   "outputs": [],
   "source": [
    "import io"
   ]
  },
  {
   "cell_type": "code",
   "execution_count": 20,
   "metadata": {},
   "outputs": [],
   "source": [
    "# This is a library function, you can't modify it.\n",
    "def get_payments_storage():\n",
    "    # Sample implementation to simulate storage.\n",
    "    # Do not rely on this exact implementation.\n",
    "    return io.BytesIO()  # Using BytesIO to simulate the storage"
   ]
  },
  {
   "cell_type": "code",
   "execution_count": 21,
   "metadata": {},
   "outputs": [],
   "source": [
    "# This is a library function, you can't modify it.\n",
    "def stream_payments_to_storage(storage):\n",
    "    \"\"\"\n",
    "    Loads payments and writes them to the `storage`.\n",
    "    Returns when all payments have been written.\n",
    "    @parameter `storage`: is an instance of\n",
    "    https://docs.python.org/3/library/io.html#io.BufferedWriter\n",
    "    \"\"\"\n",
    "    for i in range(10):\n",
    "        data = bytes([1, 2, 3, 4, 5])  # Sample data\n",
    "        storage.write(data)\n"
   ]
  },
  {
   "cell_type": "code",
   "execution_count": 22,
   "metadata": {},
   "outputs": [],
   "source": [
    "# Function to process payments and calculate checksum\n",
    "def process_payments():\n",
    "\n",
    "    checksum = 0\n",
    "\n",
    "    storage = get_payments_storage()\n",
    "    stream_payments_to_storage(storage)\n",
    "\n",
    "    # Calculate checksum by summing up all the bytes written\n",
    "    storage.seek(0)\n",
    "    for i in storage.read():\n",
    "        checksum += i\n",
    "\n",
    "    print(f\"Final Checksum: {checksum}\")"
   ]
  },
  {
   "cell_type": "code",
   "execution_count": 24,
   "metadata": {},
   "outputs": [],
   "source": [
    "process_payments() # Expected output: Final Checksum: 150"
   ]
  },
  {
   "cell_type": "markdown",
   "metadata": {},
   "source": [
    "## Task 4: Streaming Payments Processor, Two Vendors Edition\n",
    "\n",
    "### Problem Statement\n",
    "\n",
    "We decided to improve the payment processor from the previous exercise and hired two vendors. One was to implement the `stream_payments()` function, and another the `store_payments()` function.\n",
    "\n",
    "The function `process_payments_2()` is processing a large, but finite amount of payments in a streaming fashion.\n",
    "\n",
    "Unfortunately, the vendors did not coordinate their efforts and delivered their functions with incompatible APIs.\n",
    "\n",
    "### Objective\n",
    "\n",
    "Your task is to analyze the APIs of `stream_payments()` and `store_payments()` and to write glue code in `process_payments_2()` that allows us to store the payments using these vendor functions.\n",
    "\n",
    "### Constraints\n",
    "\n",
    "- You are allowed only one call each to `stream_payments()` and to `store_payments()`.\n",
    "- You cannot read from the storage.\n",
    "- You cannot use disk as temporary storage.\n",
    "- Your system has limited memory that cannot hold all payments.\n"
   ]
  },
  {
   "cell_type": "markdown",
   "metadata": {},
   "source": [
    "Importing necessary libraries."
   ]
  },
  {
   "cell_type": "code",
   "execution_count": 29,
   "metadata": {},
   "outputs": [],
   "source": [
    "import io"
   ]
  },
  {
   "cell_type": "code",
   "execution_count": 30,
   "metadata": {},
   "outputs": [],
   "source": [
    "# This is a library function, you can't modify it.\n",
    "def stream_payments(callback_fn):\n",
    "    \"\"\"\n",
    "    Reads payments from a payment processor and calls `callback_fn(amount)`\n",
    "    for each payment.\n",
    "    Returns when there are no more payments.\n",
    "    \"\"\"\n",
    "    for i in range(10):\n",
    "        callback_fn(i)"
   ]
  },
  {
   "cell_type": "code",
   "execution_count": 31,
   "metadata": {},
   "outputs": [],
   "source": [
    "# This is a library function, you can't modify it.\n",
    "def store_payments(amount_iterator):\n",
    "    \"\"\"\n",
    "    Iterates over the payment amounts from amount_iterator\n",
    "    and stores them to a remote system.\n",
    "    \"\"\"\n",
    "    for i in amount_iterator:\n",
    "        print(i)"
   ]
  },
  {
   "cell_type": "code",
   "execution_count": 32,
   "metadata": {},
   "outputs": [],
   "source": [
    "def stream_callback(amount):\n",
    "    payments_buffer.write(amount.to_bytes(1, byteorder='big'))\n",
    "\n",
    "def process_payments_2():\n",
    "    \"\"\"\n",
    "    Glue code to connect `stream_payments` with `store_payments` using io.BytesIO.\n",
    "    \"\"\"\n",
    "    global payments_buffer \n",
    "\n",
    "    payments_buffer = io.BytesIO()\n",
    "\n",
    "    stream_payments(stream_callback)\n",
    "\n",
    "    payments_buffer.seek(0)\n",
    "\n",
    "    payments = list(payments_buffer.getvalue())\n",
    "\n",
    "    store_payments(iter(payments))\n"
   ]
  },
  {
   "cell_type": "code",
   "execution_count": null,
   "metadata": {},
   "outputs": [],
   "source": [
    "process_payments_2() \n",
    "# Expected output: \n",
    "# 0\n",
    "# 1\n",
    "# 2\n",
    "# 3\n",
    "# 4\n",
    "# 5\n",
    "# 6\n",
    "# 7\n",
    "# 8\n",
    "# 9"
   ]
  },
  {
   "cell_type": "markdown",
   "metadata": {},
   "source": [
    "## Code Review\n",
    "\n",
    "Function `get_value()`"
   ]
  },
  {
   "cell_type": "code",
   "execution_count": null,
   "metadata": {},
   "outputs": [],
   "source": [
    "def get_value(data, key, default, lookup=None, mapper=None):\n",
    "    \"\"\"\n",
    "    Finds the value from data associated with key, or default if the\n",
    "    key isn't present.\n",
    "    If a lookup enum is provided, this value is then transformed to its\n",
    "    enum value.\n",
    "    If a mapper function is provided, this value is then transformed\n",
    "    by applying mapper to it.\n",
    "    \"\"\"\n",
    "    return_value = data[key]\n",
    "    if return_value is None or return_value == \"\":\n",
    "        return_value = default\n",
    "    if lookup:\n",
    "        return_value = lookup[return_value]\n",
    "    if mapper:\n",
    "        return_value = mapper(return_value)\n",
    "    return return_value\n"
   ]
  },
  {
   "cell_type": "markdown",
   "metadata": {},
   "source": [
    "\n",
    "## Review for `get_value()`:\n",
    "\n",
    "1. If arg. key is passed invalid value, code will crush. Need to handle that cases.\n"
   ]
  },
  {
   "cell_type": "markdown",
   "metadata": {},
   "source": [
    "Function `ftp_file_prefix()`"
   ]
  },
  {
   "cell_type": "code",
   "execution_count": null,
   "metadata": {},
   "outputs": [],
   "source": [
    "def ftp_file_prefix(namespace):\n",
    "    \"\"\"\n",
    "    Given a namespace string with dot-separated tokens, returns the\n",
    "    string with\n",
    "    the final token replaced by 'ftp'.\n",
    "    Example: a.b.c => a.b.ftp\n",
    "    \"\"\"\n",
    "\n",
    "    return \".\".join(namespace.split(\".\")[:-1]) + '.ftp'\n"
   ]
  },
  {
   "cell_type": "markdown",
   "metadata": {},
   "source": [
    "## Review for `ftp_file_prefix()`:\n",
    "\n",
    "There i did not see any mistake. "
   ]
  },
  {
   "cell_type": "markdown",
   "metadata": {},
   "source": [
    "Function `string_to_bool()`"
   ]
  },
  {
   "cell_type": "code",
   "execution_count": null,
   "metadata": {},
   "outputs": [],
   "source": [
    "def string_to_bool(string):\n",
    "    \"\"\"\n",
    "    Returns True if the given string is 'true' case-insensitive,\n",
    "    False if it is\n",
    "    'false' case-insensitive.\n",
    "    Raises ValueError for any other input.\n",
    "    \"\"\"\n",
    "    if string.lower() == 'true':\n",
    "        return True\n",
    "    if string.lower() == 'false':\n",
    "        return False\n",
    "    raise ValueError(f'String {string} is neither true nor false')\n"
   ]
  },
  {
   "cell_type": "markdown",
   "metadata": {},
   "source": [
    "## Review for `string_to_bool`:\n",
    "\n",
    "There is a very small mistake we can just create any variable with value of string.lower() and do not use 2 time that."
   ]
  },
  {
   "cell_type": "markdown",
   "metadata": {},
   "source": [
    "Function `config_from_dict()`"
   ]
  },
  {
   "cell_type": "code",
   "execution_count": null,
   "metadata": {},
   "outputs": [],
   "source": [
    "def config_from_dict(dict):\n",
    "    \"\"\"\n",
    "    Given a dict representing a row from a namespaces csv file,\n",
    "    returns a DAG configuration as a pair whose first element is the\n",
    "    DAG name and whose second element is a dict describing the DAG's properties.\n",
    "    \"\"\"\n",
    "    # **Issue**: The parameter name `dict` shadows the built-in Python `dict` type.\n",
    "    # **Suggestion**: Rename the parameter to something more descriptive, like `row` or `data_dict`.\n",
    "    namespace = dict['Namespace']\n",
    "\n",
    "    # **Suggestion**: The return statement is long and could benefit from breaking it into multiple lines for better readability.\n",
    "    return (\n",
    "        dict['Airflow DAG'],\n",
    "        {\n",
    "            \"earliest_available_delta_days\": 0,\n",
    "            \"lif_encoding\": 'json',\n",
    "            \"earliest_available_time\": get_value(dict, 'Available Start Time', '07:00'),\n",
    "            \"latest_available_time\": get_value(dict, 'Available End Time', '08:00'),\n",
    "            \"require_schema_match\": get_value(dict, 'Requires Schema Match', 'True', mapper=string_to_bool),\n",
    "            \"schedule_interval\": get_value(dict, 'Schedule', '1 7 * * * '),\n",
    "            \"delta_days\": get_value(dict, 'Delta Days', 'DAY_BEFORE', lookup=DeltaDays),\n",
    "            \"ftp_file_wildcard\": get_value(dict, 'File Naming Pattern', None),\n",
    "            \"ftp_file_prefix\": get_value(dict, 'FTP File Prefix', ftp_file_prefix(namespace)),\n",
    "            \"namespace\": namespace\n",
    "        }\n",
    "    )"
   ]
  },
  {
   "cell_type": "markdown",
   "metadata": {},
   "source": [
    "## Review for `config_from_dict()`:\n",
    "\n",
    "1. For the first the parameter name dict shadows the built-in Python dict type,\n",
    "\n",
    "2. I did not see the function get_value or that is a method cause in pandas there is a method.(the library not imported)\n"
   ]
  }
 ],
 "metadata": {
  "kernelspec": {
   "display_name": "Python 3",
   "language": "python",
   "name": "python3"
  },
  "language_info": {
   "codemirror_mode": {
    "name": "ipython",
    "version": 3
   },
   "file_extension": ".py",
   "mimetype": "text/x-python",
   "name": "python",
   "nbconvert_exporter": "python",
   "pygments_lexer": "ipython3",
   "version": "3.12.0"
  }
 },
 "nbformat": 4,
 "nbformat_minor": 2
}
